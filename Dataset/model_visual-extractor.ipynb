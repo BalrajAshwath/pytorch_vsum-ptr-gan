{
 "cells": [
  {
   "cell_type": "code",
   "execution_count": null,
   "metadata": {},
   "outputs": [],
   "source": [
    "import os\n",
    "\n",
    "os.environ['CUDA_VISIBLE_DEVICES'] = '0'"
   ]
  },
  {
   "cell_type": "code",
   "execution_count": null,
   "metadata": {},
   "outputs": [],
   "source": [
    "from tqdm import tqdm_notebook as tqdm\n",
    "from glob import glob"
   ]
  },
  {
   "cell_type": "code",
   "execution_count": null,
   "metadata": {},
   "outputs": [],
   "source": [
    "import torch as T\n",
    "import torch.nn as nn\n",
    "import torchvision as TV"
   ]
  },
  {
   "cell_type": "code",
   "execution_count": null,
   "metadata": {},
   "outputs": [],
   "source": [
    "class Model_VE(nn.Module):\n",
    "    def __init__(self):\n",
    "        super(Model_VE, self).__init__()\n",
    "        \n",
    "        res = TV.models.resnet50(pretrained=True)\n",
    "        self.res = nn.Sequential(*(list(res.children())[:-2]+[nn.AvgPool2d(4, 1)]))\n",
    "        \n",
    "    def forward(self, img):\n",
    "        feat = self.res(img)\n",
    "        feat = feat.reshape((feat.shape[0], -1))\n",
    "        \n",
    "        return feat\n",
    "    \n",
    "model = Model_VE().cuda()\n",
    "feat = model(T.rand((1, 3, 160, 120)).cuda())\n",
    "print(feat.shape)"
   ]
  },
  {
   "cell_type": "code",
   "execution_count": null,
   "metadata": {},
   "outputs": [],
   "source": [
    "TRANS = TV.transforms.Compose([TV.transforms.ToTensor(), \n",
    "                               TV.transforms.Normalize(mean=[0.485, 0.456, 0.406], \n",
    "                                                       std=[0.229, 0.224, 0.225])])"
   ]
  },
  {
   "cell_type": "code",
   "execution_count": null,
   "metadata": {},
   "outputs": [],
   "source": [
    "from PIL import Image\n",
    "\n",
    "feature = dict()\n",
    "for i in tqdm(range(71, 111)):\n",
    "    feature[i] = []\n",
    "    \n",
    "    l = len(glob('frame/%d/*'%(i)))\n",
    "    \n",
    "    for j in range(1, l+1):\n",
    "        img = Image.open('frame/%d/%d.png' % (i, j))\n",
    "        img = TRANS(img)\n",
    "        img = img.view((1, )+img.shape)\n",
    "        \n",
    "        feat = model(img.cuda())\n",
    "        feature[i].append(feat.cpu().detach().numpy()[0])"
   ]
  },
  {
   "cell_type": "code",
   "execution_count": null,
   "metadata": {},
   "outputs": [],
   "source": [
    "import numpy as np\n",
    "\n",
    "feature['START'] = np.ones((4096, ))\n",
    "feature['END'] = np.zeros((4096, ))"
   ]
  },
  {
   "cell_type": "code",
   "execution_count": null,
   "metadata": {},
   "outputs": [],
   "source": [
    "import pickle\n",
    "\n",
    "pickle.dump(feature, open('feature.pkl', 'wb'))"
   ]
  }
 ],
 "metadata": {
  "kernelspec": {
   "display_name": "Python 3",
   "language": "python",
   "name": "python3"
  },
  "language_info": {
   "codemirror_mode": {
    "name": "ipython",
    "version": 3
   },
   "file_extension": ".py",
   "mimetype": "text/x-python",
   "name": "python",
   "nbconvert_exporter": "python",
   "pygments_lexer": "ipython3",
   "version": "3.6.5"
  }
 },
 "nbformat": 4,
 "nbformat_minor": 2
}
